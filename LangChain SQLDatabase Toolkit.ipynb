{
 "cells": [
  {
   "cell_type": "code",
   "execution_count": 8,
   "id": "fc1c33d6",
   "metadata": {},
   "outputs": [],
   "source": [
    "import sqlite3\n",
    "from sqlalchemy import create_engine\n",
    "from sqlalchemy.pool import StaticPool\n",
    "from langchain_community.utilities.sql_database import SQLDatabase"
   ]
  },
  {
   "cell_type": "code",
   "execution_count": 2,
   "id": "2b66147f",
   "metadata": {},
   "outputs": [],
   "source": [
    "database_path = \"my_database.db\""
   ]
  },
  {
   "cell_type": "code",
   "execution_count": 3,
   "id": "4a2e344c",
   "metadata": {},
   "outputs": [],
   "source": [
    "connection = sqlite3.connect(database_path, check_same_thread=False)"
   ]
  },
  {
   "cell_type": "code",
   "execution_count": 4,
   "id": "a3f1b002",
   "metadata": {},
   "outputs": [],
   "source": [
    "schema = \"\"\"\n",
    "CREATE TABLE IF NOT EXISTS employees (\n",
    "    id INTEGER PRIMARY KEY,\n",
    "    name TEXT NOT NULL,\n",
    "    department TEXT,\n",
    "    salary REAL\n",
    ");\n",
    "CREATE TABLE IF NOT EXISTS departments (\n",
    "    id INTEGER PRIMARY KEY,\n",
    "    name TEXT NOT NULL\n",
    ");\n",
    "\"\"\""
   ]
  },
  {
   "cell_type": "code",
   "execution_count": 5,
   "id": "ac6a2e88",
   "metadata": {},
   "outputs": [
    {
     "data": {
      "text/plain": [
       "<sqlite3.Cursor at 0x133d5342840>"
      ]
     },
     "execution_count": 5,
     "metadata": {},
     "output_type": "execute_result"
    }
   ],
   "source": [
    "connection.executescript(schema)"
   ]
  },
  {
   "cell_type": "code",
   "execution_count": 6,
   "id": "64b64055",
   "metadata": {},
   "outputs": [],
   "source": [
    "engine = create_engine(\n",
    "    f\"sqlite:///{database_path}\",\n",
    "    poolclass=StaticPool,\n",
    "    connect_args={\"check_same_thread\": False}\n",
    ")"
   ]
  },
  {
   "cell_type": "code",
   "execution_count": 9,
   "id": "a9413e82",
   "metadata": {},
   "outputs": [],
   "source": [
    "db = SQLDatabase(engine)"
   ]
  },
  {
   "cell_type": "code",
   "execution_count": 10,
   "id": "4fc2f357",
   "metadata": {},
   "outputs": [],
   "source": [
    "cursor = connection.cursor()"
   ]
  },
  {
   "cell_type": "code",
   "execution_count": 11,
   "id": "6a72c7d9",
   "metadata": {},
   "outputs": [],
   "source": [
    "employee_records = [\n",
    "    (\"Alice\", \"Engineering\", 75000),\n",
    "    (\"Bob\", \"Sales\", 60000),\n",
    "    (\"Charlie\", \"Engineering\", 80000),\n",
    "    (\"Daisy\", \"Sales\", 62000),\n",
    "    (\"Ethan\", \"Marketing\", 55000),\n",
    "    (\"Fiona\", \"Engineering\", 85000),\n",
    "    (\"George\", \"Marketing\", 58000),\n",
    "    (\"Hannah\", \"HR\", 52000),\n",
    "    (\"Ivy\", \"Finance\", 90000),\n",
    "    (\"Jack\", \"Finance\", 91000),\n",
    "    (\"Katie\", \"HR\", 53000),\n",
    "    (\"Liam\", \"Sales\", 70000),\n",
    "    (\"Mia\", \"Engineering\", 92000),\n",
    "    (\"Noah\", \"Sales\", 64000),\n",
    "    (\"Olivia\", \"IT\", 95000),\n",
    "    (\"Parker\", \"IT\", 97000),\n",
    "    (\"Quinn\", \"Marketing\", 61000),\n",
    "    (\"Ruby\", \"HR\", 54000),\n",
    "    (\"Sam\", \"Finance\", 89000),\n",
    "    (\"Tina\", \"Sales\", 71000),\n",
    "    (\"Uma\", \"Engineering\", 86000),\n",
    "    (\"Vince\", \"Finance\", 94000),\n",
    "    (\"Wendy\", \"IT\", 98000),\n",
    "    (\"Xander\", \"Marketing\", 60000),\n",
    "    (\"Yara\", \"Sales\", 69000),\n",
    "    (\"Zane\", \"HR\", 56000)\n",
    "]"
   ]
  },
  {
   "cell_type": "code",
   "execution_count": 12,
   "id": "9c07614f",
   "metadata": {},
   "outputs": [],
   "source": [
    "department_records = [\n",
    "    (\"Engineering\",),\n",
    "    (\"Sales\",),\n",
    "    (\"Marketing\",),\n",
    "    (\"HR\",),\n",
    "    (\"Finance\",),\n",
    "    (\"IT\",),\n",
    "    (\"Legal\",),\n",
    "    (\"Operations\",),\n",
    "    (\"Customer Service\",)\n",
    "]"
   ]
  },
  {
   "cell_type": "code",
   "execution_count": 13,
   "id": "2d0e8e66",
   "metadata": {},
   "outputs": [
    {
     "data": {
      "text/plain": [
       "<sqlite3.Cursor at 0x133d78c3d40>"
      ]
     },
     "execution_count": 13,
     "metadata": {},
     "output_type": "execute_result"
    }
   ],
   "source": [
    "cursor.executemany(\"INSERT INTO employees (name, department, salary) VALUES (?, ?, ?)\", employee_records)\n",
    "cursor.executemany(\"INSERT INTO departments (name) VALUES (?)\", department_records)"
   ]
  },
  {
   "cell_type": "code",
   "execution_count": 14,
   "id": "93375cf1",
   "metadata": {},
   "outputs": [],
   "source": [
    "connection.commit()"
   ]
  },
  {
   "cell_type": "code",
   "execution_count": 15,
   "id": "b1548f6b",
   "metadata": {},
   "outputs": [],
   "source": [
    "from langchain_openai import ChatOpenAI\n",
    "from dotenv import load_dotenv\n",
    "import os"
   ]
  },
  {
   "cell_type": "code",
   "execution_count": 16,
   "id": "19e600a7",
   "metadata": {},
   "outputs": [
    {
     "data": {
      "text/plain": [
       "True"
      ]
     },
     "execution_count": 16,
     "metadata": {},
     "output_type": "execute_result"
    }
   ],
   "source": [
    "load_dotenv()"
   ]
  },
  {
   "cell_type": "code",
   "execution_count": 17,
   "id": "d4842641",
   "metadata": {},
   "outputs": [],
   "source": [
    "my_openai_key = os.getenv(\"my_openai_key\")"
   ]
  },
  {
   "cell_type": "code",
   "execution_count": 18,
   "id": "39ad9aee",
   "metadata": {},
   "outputs": [],
   "source": [
    "llm = ChatOpenAI(model=\"gpt-4o-mini\", api_key=my_openai_key)"
   ]
  },
  {
   "cell_type": "code",
   "execution_count": 19,
   "id": "58a8367e",
   "metadata": {},
   "outputs": [],
   "source": [
    "from langchain_community.agent_toolkits.sql.toolkit import SQLDatabaseToolkit"
   ]
  },
  {
   "cell_type": "code",
   "execution_count": 20,
   "id": "29adf9ea",
   "metadata": {},
   "outputs": [],
   "source": [
    "toolkit = SQLDatabaseToolkit(db=db, llm=llm)"
   ]
  },
  {
   "cell_type": "code",
   "execution_count": 21,
   "id": "9654f20d",
   "metadata": {},
   "outputs": [
    {
     "data": {
      "text/plain": [
       "[QuerySQLDataBaseTool(description=\"Input to this tool is a detailed and correct SQL query, output is a result from the database. If the query is not correct, an error message will be returned. If an error is returned, rewrite the query, check the query, and try again. If you encounter an issue with Unknown column 'xxxx' in 'field list', use sql_db_schema to query the correct table fields.\", db=<langchain_community.utilities.sql_database.SQLDatabase object at 0x00000133D78F6290>),\n",
       " InfoSQLDatabaseTool(description='Input to this tool is a comma-separated list of tables, output is the schema and sample rows for those tables. Be sure that the tables actually exist by calling sql_db_list_tables first! Example Input: table1, table2, table3', db=<langchain_community.utilities.sql_database.SQLDatabase object at 0x00000133D78F6290>),\n",
       " ListSQLDatabaseTool(db=<langchain_community.utilities.sql_database.SQLDatabase object at 0x00000133D78F6290>),\n",
       " QuerySQLCheckerTool(description='Use this tool to double check if your query is correct before executing it. Always use this tool before executing a query with sql_db_query!', db=<langchain_community.utilities.sql_database.SQLDatabase object at 0x00000133D78F6290>, llm=ChatOpenAI(client=<openai.resources.chat.completions.Completions object at 0x00000133D8C07590>, async_client=<openai.resources.chat.completions.AsyncCompletions object at 0x00000133D831A490>, root_client=<openai.OpenAI object at 0x00000133D8594250>, root_async_client=<openai.AsyncOpenAI object at 0x00000133D8E63050>, model_name='gpt-4o-mini', model_kwargs={}, openai_api_key=SecretStr('**********')), llm_chain=LLMChain(verbose=False, prompt=PromptTemplate(input_variables=['dialect', 'query'], input_types={}, partial_variables={}, template='\\n{query}\\nDouble check the {dialect} query above for common mistakes, including:\\n- Using NOT IN with NULL values\\n- Using UNION when UNION ALL should have been used\\n- Using BETWEEN for exclusive ranges\\n- Data type mismatch in predicates\\n- Properly quoting identifiers\\n- Using the correct number of arguments for functions\\n- Casting to the correct data type\\n- Using the proper columns for joins\\n\\nIf there are any of the above mistakes, rewrite the query. If there are no mistakes, just reproduce the original query.\\n\\nOutput the final SQL query only.\\n\\nSQL Query: '), llm=ChatOpenAI(client=<openai.resources.chat.completions.Completions object at 0x00000133D8C07590>, async_client=<openai.resources.chat.completions.AsyncCompletions object at 0x00000133D831A490>, root_client=<openai.OpenAI object at 0x00000133D8594250>, root_async_client=<openai.AsyncOpenAI object at 0x00000133D8E63050>, model_name='gpt-4o-mini', model_kwargs={}, openai_api_key=SecretStr('**********')), output_parser=StrOutputParser(), llm_kwargs={}))]"
      ]
     },
     "execution_count": 21,
     "metadata": {},
     "output_type": "execute_result"
    }
   ],
   "source": [
    "toolkit.get_tools()"
   ]
  },
  {
   "cell_type": "code",
   "execution_count": 22,
   "id": "cf0af1f4",
   "metadata": {},
   "outputs": [
    {
     "name": "stderr",
     "output_type": "stream",
     "text": [
      "C:\\Users\\Lenovo\\anaconda3\\Lib\\site-packages\\langsmith\\client.py:354: LangSmithMissingAPIKeyWarning: API key must be provided when using hosted LangSmith API\n",
      "  warnings.warn(\n"
     ]
    },
    {
     "name": "stdout",
     "output_type": "stream",
     "text": [
      "['dialect', 'top_k']\n"
     ]
    }
   ],
   "source": [
    "from langchain import hub\n",
    "\n",
    "prompt_template = hub.pull(\"langchain-ai/sql-agent-system-prompt\")\n",
    "\n",
    "assert len(prompt_template.messages) == 1\n",
    "print(prompt_template.input_variables)"
   ]
  },
  {
   "cell_type": "code",
   "execution_count": 23,
   "id": "f1ad34ac",
   "metadata": {},
   "outputs": [],
   "source": [
    "system_message = prompt_template.format(dialect=\"SQLite\", top_k=5)"
   ]
  },
  {
   "cell_type": "code",
   "execution_count": 24,
   "id": "b6493f9e",
   "metadata": {},
   "outputs": [],
   "source": [
    "from langgraph.prebuilt import create_react_agent\n",
    "\n",
    "agent_executor = create_react_agent(\n",
    "    llm, toolkit.get_tools(), state_modifier=system_message\n",
    ")"
   ]
  },
  {
   "cell_type": "code",
   "execution_count": 25,
   "id": "73f6a1c3",
   "metadata": {},
   "outputs": [
    {
     "name": "stdout",
     "output_type": "stream",
     "text": [
      "================================\u001b[1m Human Message \u001b[0m=================================\n",
      "\n",
      "Which department has the highest average salary?\n",
      "==================================\u001b[1m Ai Message \u001b[0m==================================\n",
      "Tool Calls:\n",
      "  sql_db_list_tables (call_Vifdxlvwc7zLz5q5KCyaMX19)\n",
      " Call ID: call_Vifdxlvwc7zLz5q5KCyaMX19\n",
      "  Args:\n",
      "=================================\u001b[1m Tool Message \u001b[0m=================================\n",
      "Name: sql_db_list_tables\n",
      "\n",
      "departments, employees\n",
      "==================================\u001b[1m Ai Message \u001b[0m==================================\n",
      "Tool Calls:\n",
      "  sql_db_schema (call_FuY7UUbNk6CBhrmTLnzu022k)\n",
      " Call ID: call_FuY7UUbNk6CBhrmTLnzu022k\n",
      "  Args:\n",
      "    table_names: departments\n",
      "  sql_db_schema (call_9n2qXSoNykzxPKhHNluaBCZL)\n",
      " Call ID: call_9n2qXSoNykzxPKhHNluaBCZL\n",
      "  Args:\n",
      "    table_names: employees\n",
      "=================================\u001b[1m Tool Message \u001b[0m=================================\n",
      "Name: sql_db_schema\n",
      "\n",
      "\n",
      "CREATE TABLE employees (\n",
      "\tid INTEGER, \n",
      "\tname TEXT NOT NULL, \n",
      "\tdepartment TEXT, \n",
      "\tsalary REAL, \n",
      "\tPRIMARY KEY (id)\n",
      ")\n",
      "\n",
      "/*\n",
      "3 rows from employees table:\n",
      "id\tname\tdepartment\tsalary\n",
      "1\tAlice\tEngineering\t75000.0\n",
      "2\tBob\tSales\t60000.0\n",
      "3\tCharlie\tEngineering\t80000.0\n",
      "*/\n",
      "==================================\u001b[1m Ai Message \u001b[0m==================================\n",
      "Tool Calls:\n",
      "  sql_db_query_checker (call_jMmQnFB5Mo1jt8Yhq2d2I310)\n",
      " Call ID: call_jMmQnFB5Mo1jt8Yhq2d2I310\n",
      "  Args:\n",
      "    query: SELECT department, AVG(salary) AS average_salary FROM employees GROUP BY department ORDER BY average_salary DESC LIMIT 1;\n",
      "=================================\u001b[1m Tool Message \u001b[0m=================================\n",
      "Name: sql_db_query_checker\n",
      "\n",
      "```sql\n",
      "SELECT department, AVG(salary) AS average_salary FROM employees GROUP BY department ORDER BY average_salary DESC LIMIT 1;\n",
      "```\n",
      "==================================\u001b[1m Ai Message \u001b[0m==================================\n",
      "Tool Calls:\n",
      "  sql_db_query (call_kV72XGDx1gReVRJY7iF8uNHf)\n",
      " Call ID: call_kV72XGDx1gReVRJY7iF8uNHf\n",
      "  Args:\n",
      "    query: SELECT department, AVG(salary) AS average_salary FROM employees GROUP BY department ORDER BY average_salary DESC LIMIT 1;\n",
      "=================================\u001b[1m Tool Message \u001b[0m=================================\n",
      "Name: sql_db_query\n",
      "\n",
      "[('IT', 96666.66666666667)]\n",
      "==================================\u001b[1m Ai Message \u001b[0m==================================\n",
      "\n",
      "The department with the highest average salary is IT, with an average salary of approximately $96,667.\n"
     ]
    }
   ],
   "source": [
    "example_query = \"Which department has the highest average salary?\"\n",
    "\n",
    "events = agent_executor.stream(\n",
    "    {\"messages\": [(\"user\", example_query)]},\n",
    "    stream_mode=\"values\",\n",
    ")\n",
    "for event in events:\n",
    "    event[\"messages\"][-1].pretty_print()"
   ]
  },
  {
   "cell_type": "code",
   "execution_count": 26,
   "id": "77b80187",
   "metadata": {},
   "outputs": [
    {
     "name": "stdout",
     "output_type": "stream",
     "text": [
      "================================\u001b[1m Human Message \u001b[0m=================================\n",
      "\n",
      "List all employees in the Finance department, ordered by salary.\n",
      "==================================\u001b[1m Ai Message \u001b[0m==================================\n",
      "Tool Calls:\n",
      "  sql_db_list_tables (call_AlZjmYN4AsYIiy6VLHIzEoQN)\n",
      " Call ID: call_AlZjmYN4AsYIiy6VLHIzEoQN\n",
      "  Args:\n",
      "=================================\u001b[1m Tool Message \u001b[0m=================================\n",
      "Name: sql_db_list_tables\n",
      "\n",
      "departments, employees\n",
      "==================================\u001b[1m Ai Message \u001b[0m==================================\n",
      "Tool Calls:\n",
      "  sql_db_schema (call_F33K66AbThVSovgFHwYa3WHq)\n",
      " Call ID: call_F33K66AbThVSovgFHwYa3WHq\n",
      "  Args:\n",
      "    table_names: departments\n",
      "  sql_db_schema (call_PhYEviG1m4wodH4JYg0xPUvZ)\n",
      " Call ID: call_PhYEviG1m4wodH4JYg0xPUvZ\n",
      "  Args:\n",
      "    table_names: employees\n",
      "=================================\u001b[1m Tool Message \u001b[0m=================================\n",
      "Name: sql_db_schema\n",
      "\n",
      "\n",
      "CREATE TABLE employees (\n",
      "\tid INTEGER, \n",
      "\tname TEXT NOT NULL, \n",
      "\tdepartment TEXT, \n",
      "\tsalary REAL, \n",
      "\tPRIMARY KEY (id)\n",
      ")\n",
      "\n",
      "/*\n",
      "3 rows from employees table:\n",
      "id\tname\tdepartment\tsalary\n",
      "1\tAlice\tEngineering\t75000.0\n",
      "2\tBob\tSales\t60000.0\n",
      "3\tCharlie\tEngineering\t80000.0\n",
      "*/\n",
      "==================================\u001b[1m Ai Message \u001b[0m==================================\n",
      "Tool Calls:\n",
      "  sql_db_query_checker (call_ppu77pFtzAdCzJQ1WyFey0C7)\n",
      " Call ID: call_ppu77pFtzAdCzJQ1WyFey0C7\n",
      "  Args:\n",
      "    query: SELECT name, salary FROM employees WHERE department = 'Finance' ORDER BY salary;\n",
      "=================================\u001b[1m Tool Message \u001b[0m=================================\n",
      "Name: sql_db_query_checker\n",
      "\n",
      "```sql\n",
      "SELECT name, salary FROM employees WHERE department = 'Finance' ORDER BY salary;\n",
      "```\n",
      "==================================\u001b[1m Ai Message \u001b[0m==================================\n",
      "Tool Calls:\n",
      "  sql_db_query (call_ggF1fbdfmR2iapeQdougPw5t)\n",
      " Call ID: call_ggF1fbdfmR2iapeQdougPw5t\n",
      "  Args:\n",
      "    query: SELECT name, salary FROM employees WHERE department = 'Finance' ORDER BY salary;\n",
      "=================================\u001b[1m Tool Message \u001b[0m=================================\n",
      "Name: sql_db_query\n",
      "\n",
      "[('Sam', 89000.0), ('Sam', 89000.0), ('Ivy', 90000.0), ('Ivy', 90000.0), ('Jack', 91000.0), ('Jack', 91000.0), ('Vince', 94000.0), ('Vince', 94000.0)]\n",
      "==================================\u001b[1m Ai Message \u001b[0m==================================\n",
      "\n",
      "The following employees are in the Finance department, ordered by salary:\n",
      "\n",
      "1. Sam - $89,000\n",
      "2. Ivy - $90,000\n",
      "3. Jack - $91,000\n",
      "4. Vince - $94,000\n",
      "\n",
      "(Note: Some names may appear multiple times in the results, indicating possible duplicates in the data.)\n"
     ]
    }
   ],
   "source": [
    "example_query = \"List all employees in the Finance department, ordered by salary.\"\n",
    "\n",
    "events = agent_executor.stream(\n",
    "    {\"messages\": [(\"user\", example_query)]},\n",
    "    stream_mode=\"values\",\n",
    ")\n",
    "for event in events:\n",
    "    event[\"messages\"][-1].pretty_print()"
   ]
  },
  {
   "cell_type": "code",
   "execution_count": null,
   "id": "31a1c13a",
   "metadata": {},
   "outputs": [],
   "source": []
  }
 ],
 "metadata": {
  "kernelspec": {
   "display_name": "Python 3 (ipykernel)",
   "language": "python",
   "name": "python3"
  },
  "language_info": {
   "codemirror_mode": {
    "name": "ipython",
    "version": 3
   },
   "file_extension": ".py",
   "mimetype": "text/x-python",
   "name": "python",
   "nbconvert_exporter": "python",
   "pygments_lexer": "ipython3",
   "version": "3.11.5"
  }
 },
 "nbformat": 4,
 "nbformat_minor": 5
}
